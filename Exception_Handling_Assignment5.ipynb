{
 "cells": [
  {
   "cell_type": "code",
   "execution_count": 1,
   "id": "a6c94e4b",
   "metadata": {},
   "outputs": [
    {
     "name": "stdout",
     "output_type": "stream",
     "text": [
      "An interger/number can't be divisible by Zero\n",
      "An execption has been occured as,  division by zero  action has been attempted\n"
     ]
    }
   ],
   "source": [
    "#1.\tWrite a function to compute 5/0 and use try/except to catch the exceptions. \n",
    " \n",
    "def DivideByZero(x,y):\n",
    "    try:\n",
    "        x/y\n",
    "    except ZeroDivisionError as e:\n",
    "        print(\"An interger/number can't be divisible by Zero\")\n",
    "        print(\"An execption has been occured as, \",e, \" action has been attempted\")\n",
    "\n",
    "\n",
    "x,y=5,0\n",
    "\n",
    "#Function Executing\n",
    "DivideByZero(x,y)\n"
   ]
  },
  {
   "cell_type": "code",
   "execution_count": null,
   "id": "37301efb",
   "metadata": {},
   "outputs": [],
   "source": [
    "#2Implement a Python program to generate all sentences where subject is in [\"Americans\", \"Indians\"] and verb is in [\"Play\", \"watch\"] and the object is in [\"Baseball\",\"cricket\"]. \n",
    "''' \n",
    "Hint: Subject,Verb and Object should be declared in the program as shown below. \n",
    " \n",
    "subjects=[\"Americans \",\"Indians\"] \t verbs=[\"play\",\"watch\"] \t objects=[\"Baseball\",\"Cricket\"] \n",
    " \n",
    "Output should come as below: \n",
    " \n",
    "Americans play Baseball. \t \n",
    "Americans play Cricket. \t \n",
    "Americans watch Baseball. \t \n",
    "Americans watch Cricket. \t \n",
    "Indians play Baseball. \t \n",
    "Indians play Cricket. \t \n",
    "Indians watch Baseball. \t Indians watch Cricket. \n",
    "'''\n",
    "\n"
   ]
  }
 ],
 "metadata": {
  "kernelspec": {
   "display_name": "Python 3",
   "language": "python",
   "name": "python3"
  },
  "language_info": {
   "codemirror_mode": {
    "name": "ipython",
    "version": 3
   },
   "file_extension": ".py",
   "mimetype": "text/x-python",
   "name": "python",
   "nbconvert_exporter": "python",
   "pygments_lexer": "ipython3",
   "version": "3.8.8"
  }
 },
 "nbformat": 4,
 "nbformat_minor": 5
}
