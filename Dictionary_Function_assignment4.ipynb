{
 "cells": [
  {
   "cell_type": "code",
   "execution_count": 2,
   "id": "9db2254e",
   "metadata": {},
   "outputs": [
    {
     "name": "stdout",
     "output_type": "stream",
     "text": [
      "Enter the Side a :5\n",
      "Enter the Side b :3\n",
      "Enter the Side c :4\n",
      "The sides of triangle are a=5.0, b=3.0, c=4.0\n",
      "The Area of the triangle is 6.00\n"
     ]
    }
   ],
   "source": [
    "'''\n",
    "1.1 Write a Python Program(with class concepts) to find the area of the triangle using the below formula. \n",
    " \n",
    "area = (s*(s-a)*(s-b)*(s-c)) ** 0.5 \n",
    " \n",
    "Function to take the length of the sides of triangle from user should be defined in the parent class and function to\n",
    "calculate the area should be defined in subclass. \n",
    "'''\n",
    "#Parent class\n",
    "class Triangle:\n",
    "    def __init__(self):\n",
    "        ''' This method has been used as an self constructor for Traingle class'''\n",
    "        number_of_sides=['a','b','c']\n",
    "        self.TriangleSides=number_of_sides\n",
    "        \n",
    "    def sides_Of_Triangle(self):\n",
    "        ''' This method will return sides of Traingle'''\n",
    "        self.sides_Of_Traingle=[input(\"Enter the Side \"+i+\" :\") for i in self.TriangleSides]\n",
    "        \n",
    "#Child class       \n",
    "class Traingle_Area(Triangle):\n",
    "    def __init__(self):\n",
    "        Triangle.__init__(self)\n",
    "        \n",
    "    def area_Of_Triangle(self):\n",
    "        '''This method will return an Area of Triangle'''\n",
    "        \n",
    "        # Iterator has been created to iterate sides of triangle from collection\n",
    "        triangleSides=iter(self.sides_Of_Traingle)\n",
    "        a=float(next(triangleSides))\n",
    "        b=float(next(triangleSides))\n",
    "        c=float(next(triangleSides))      \n",
    "           \n",
    "        # Half-perimeter (s) of Triangle         \n",
    "        s= (a+b+c)*0.5        \n",
    "        # Area of Triangle         \n",
    "        Area = (s*(s-a)*(s-b)*(s-c))**0.5    \n",
    "        print(\"The sides of triangle are a=\"+str(a)+\", b=\"+str(b)+\", c=\"+str(c))     \n",
    "        Area = ('The Area of the triangle is %0.2f' %Area )\n",
    "        print(Area)\n",
    "        \n",
    "\n",
    "# Create object of Sub class Traingle_Area()\n",
    "Area_Of_Traingle = Traingle_Area()\n",
    "\n",
    "#Ask User to Enter the sides of Triangle\n",
    "Area_Of_Traingle.sides_Of_Triangle()\n",
    "\n",
    "# Calculate the Area Of Triangle\n",
    "Area_Of_Traingle.area_Of_Triangle()\n",
    "\n"
   ]
  },
  {
   "cell_type": "code",
   "execution_count": 1,
   "id": "baf57c45",
   "metadata": {},
   "outputs": [
    {
     "name": "stdout",
     "output_type": "stream",
     "text": [
      "Please enter your words: 10\n",
      "Please enter your number: 5\n"
     ]
    },
    {
     "data": {
      "text/plain": [
       "'No Words longer than specified number 5'"
      ]
     },
     "execution_count": 1,
     "metadata": {},
     "output_type": "execute_result"
    }
   ],
   "source": [
    "'''\n",
    "1.2 Write a function filter_long_words() that takes a list of words and an integer n and returns the list of words \n",
    "that are longer than n. \n",
    "'''\n",
    "\n",
    "#Function to Filter words based on length\n",
    "def filter_long_words(WordList,n):\n",
    "    ''' This function returns list of words that are longer than argument n'''\n",
    "    \n",
    "    #Using List Comprehensions\n",
    "    Wordlist=[x.strip() for x in WordList if len(x.strip())>n]\n",
    "    \n",
    "    if(len(Wordlist)>0):\n",
    "        print(\"\\n The List of longest words , which  are longer than \"+str(n)+\" is :\")\n",
    "        return Wordlist\n",
    "    else:\n",
    "        return \"No Words longer than specified number \"+str(n)\n",
    "    \n",
    "#User Input\n",
    "string= input(\"Enter your words: \")\n",
    "number= int(input(\"Enter your number: \"))\n",
    "\n",
    "# Split the words by \",\" comma and convert into list\n",
    "list_Of_Words = list(string.split(\",\"))\n",
    "#calling function\n",
    "filter_long_words(list_Of_Words,number)"
   ]
  },
  {
   "cell_type": "code",
   "execution_count": 3,
   "id": "b21cdb48",
   "metadata": {},
   "outputs": [
    {
     "name": "stdout",
     "output_type": "stream",
     "text": [
      "Input : Please enter Words : 4\n",
      "Output: Length of Words are : [1]\n"
     ]
    }
   ],
   "source": [
    "'''2.1 Write a Python program using function concept that maps list of words into a list of integers representing the lengths \n",
    "\n",
    "of the corresponding words. \n",
    " \n",
    "Hint: If a list [ ab,cde,erty] is passed on to the python function output should come as [2,3,4] \n",
    " \n",
    "Here 2,3 and 4 are the lengths of the words in the list. \n",
    "'''\n",
    "\n",
    "def map_Words_to_Length(List):\n",
    "    ''' This function Map's the words with their corresponding length'''\n",
    "    return list(map(len, List))\n",
    "\n",
    "word_List=list(input(\"Input : Please enter Words : \").split(\",\"))\n",
    "#List Comprehension has been done to remove white trailing white spaces\n",
    "List=[x.strip() for x in word_List]\n",
    "#function Execution\n",
    "Words_lengths=map_Words_to_Length(List)\n",
    "\n",
    "print(\"Output: Length of Words are :\",Words_lengths )"
   ]
  },
  {
   "cell_type": "code",
   "execution_count": 7,
   "id": "7736dfce",
   "metadata": {},
   "outputs": [
    {
     "name": "stdout",
     "output_type": "stream",
     "text": [
      "Input Value: l\n",
      "Output Value: False\n"
     ]
    }
   ],
   "source": [
    "'''2.2 Write a Python function which takes a character (i.e. a string of length 1) and returns True if it is a vowel, False otherwise. \n",
    "'''\n",
    "def vowel_checker(inputChar):\n",
    "    '''This function will return True/False based upon input character provided by user'''\n",
    "    return_value=''\n",
    "    if(len(inputChar)==1):\n",
    "        vowel_list=['a','e','i','o','u']\n",
    "        if (inputChar.lower() in vowel_list):\n",
    "            return_value= True\n",
    "        else:\n",
    "            return_value= False\n",
    "    else:\n",
    "        return_value=\"Please enter single character only!\"        \n",
    "    return return_value\n",
    "\n",
    "#User Input\n",
    "input_value = input(\"Input Value: \")\n",
    "#callingFunction\n",
    "output_value=vowel_checker(input_value) \n",
    "#Output\n",
    "print(\"Output Value:\",output_value)"
   ]
  },
  {
   "cell_type": "code",
   "execution_count": null,
   "id": "1f27a6ed",
   "metadata": {},
   "outputs": [],
   "source": []
  }
 ],
 "metadata": {
  "kernelspec": {
   "display_name": "Python 3",
   "language": "python",
   "name": "python3"
  },
  "language_info": {
   "codemirror_mode": {
    "name": "ipython",
    "version": 3
   },
   "file_extension": ".py",
   "mimetype": "text/x-python",
   "name": "python",
   "nbconvert_exporter": "python",
   "pygments_lexer": "ipython3",
   "version": "3.8.8"
  }
 },
 "nbformat": 4,
 "nbformat_minor": 5
}
